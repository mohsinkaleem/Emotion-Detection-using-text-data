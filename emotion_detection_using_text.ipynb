{
  "nbformat": 4,
  "nbformat_minor": 0,
  "metadata": {
    "kernelspec": {
      "name": "python3",
      "display_name": "Python 3"
    },
    "language_info": {
      "codemirror_mode": {
        "name": "ipython",
        "version": 3
      },
      "file_extension": ".py",
      "mimetype": "text/x-python",
      "name": "python",
      "nbconvert_exporter": "python",
      "pygments_lexer": "ipython3",
      "version": "3.7.3"
    },
    "colab": {
      "name": "emotion detection using text.ipynb",
      "provenance": [],
      "toc_visible": true
    },
    "accelerator": "GPU"
  },
  "cells": [
    {
      "cell_type": "code",
      "metadata": {
        "id": "oQUDWsbR6dz7",
        "colab_type": "code",
        "colab": {}
      },
      "source": [
        "# Beat tracking example\n",
        "from __future__ import print_function\n",
        "import librosa\n",
        "\n"
      ],
      "execution_count": 0,
      "outputs": []
    },
    {
      "cell_type": "code",
      "metadata": {
        "id": "6XT_vN9T69O9",
        "colab_type": "code",
        "outputId": "5279a928-92eb-49bf-c318-972da49181fd",
        "colab": {
          "base_uri": "https://localhost:8080/",
          "height": 122
        }
      },
      "source": [
        "from google.colab import drive\n",
        "drive.mount('/content/drive')"
      ],
      "execution_count": 0,
      "outputs": [
        {
          "output_type": "stream",
          "text": [
            "Go to this URL in a browser: https://accounts.google.com/o/oauth2/auth?client_id=947318989803-6bn6qk8qdgf4n4g3pfee6491hc0brc4i.apps.googleusercontent.com&redirect_uri=urn%3aietf%3awg%3aoauth%3a2.0%3aoob&response_type=code&scope=email%20https%3a%2f%2fwww.googleapis.com%2fauth%2fdocs.test%20https%3a%2f%2fwww.googleapis.com%2fauth%2fdrive%20https%3a%2f%2fwww.googleapis.com%2fauth%2fdrive.photos.readonly%20https%3a%2f%2fwww.googleapis.com%2fauth%2fpeopleapi.readonly\n",
            "\n",
            "Enter your authorization code:\n",
            "··········\n",
            "Mounted at /content/drive\n"
          ],
          "name": "stdout"
        }
      ]
    },
    {
      "cell_type": "code",
      "metadata": {
        "id": "oYghZF3m6d0B",
        "colab_type": "code",
        "outputId": "d6256498-80d3-4269-a8b4-a005f2c3ad5d",
        "colab": {}
      },
      "source": [
        "# 1. Get the file path to the included audio example\n",
        "# filename = librosa.util.example_audio_file()\n",
        "\n",
        "# # 2. Load the audio as a waveform `y`\n",
        "# #    Store the sampling rate as `sr`\n",
        "# y, sr = librosa.load(filename)\n",
        "\n",
        "# # 3. Run the default beat tracker\n",
        "# tempo, beat_frames = librosa.beat.beat_track(y=y, sr=sr)\n",
        "\n",
        "print('Estimated tempo: {:.2f} beats per minute'.format(tempo))\n",
        "\n",
        "# # 4. Convert the frame indices of beat events into timestamps\n",
        "beat_times = librosa.frames_to_time(beat_frames, sr=sr)"
      ],
      "execution_count": 0,
      "outputs": [
        {
          "output_type": "stream",
          "text": [
            "Estimated tempo: 129.20 beats per minute\n"
          ],
          "name": "stdout"
        }
      ]
    },
    {
      "cell_type": "code",
      "metadata": {
        "id": "GmJ4hg2u6d0J",
        "colab_type": "code",
        "outputId": "8a9614c9-3a57-46d5-833f-1388407c4bfa",
        "colab": {}
      },
      "source": [
        "beat_times"
      ],
      "execution_count": 0,
      "outputs": [
        {
          "output_type": "execute_result",
          "data": {
            "text/plain": [
              "array([ 0.11609977,  0.55727891,  0.99845805,  1.46285714,  1.92725624,\n",
              "        2.39165533,  2.83283447,  3.29723356,  3.76163265,  4.22603175,\n",
              "        4.69043084,  5.15482993,  5.61922902,  6.08362812,  6.52480726,\n",
              "        6.98920635,  7.45360544,  7.91800454,  8.38240363,  8.87002268,\n",
              "        9.31120181,  9.77560091, 10.24      , 10.70439909, 11.14557823,\n",
              "       11.60997732, 12.07437642, 12.53877551, 13.0031746 , 13.4675737 ,\n",
              "       13.93197279, 14.39637188, 14.83755102, 15.27873016, 15.74312925,\n",
              "       16.20752834, 16.67192744, 17.11310658, 17.60072562, 18.04190476,\n",
              "       18.52952381, 18.97070295, 19.43510204, 19.89950113, 20.36390023,\n",
              "       20.80507937, 21.29269841, 21.73387755, 22.2214966 , 22.66267574,\n",
              "       23.12707483, 23.59147392, 24.05587302, 24.49705215, 24.96145125,\n",
              "       25.42585034, 25.91346939, 26.35464853, 26.81904762, 27.28344671,\n",
              "       27.7478458 , 28.18902494, 28.65342404, 29.11782313, 29.60544218,\n",
              "       30.06984127, 30.53424036, 30.9754195 , 31.43981859, 31.88099773,\n",
              "       32.36861678, 32.83301587, 33.29741497, 33.7385941 , 34.2029932 ,\n",
              "       34.66739229, 35.13179138, 35.57297052, 36.06058957, 36.52498866,\n",
              "       36.98938776, 37.43056689, 37.89496599, 38.35936508, 38.82376417,\n",
              "       39.26494331, 39.75256236, 40.21696145, 40.68136054, 41.12253968,\n",
              "       41.58693878, 42.05133787, 42.51573696, 42.9569161 , 43.44453515,\n",
              "       43.88571429, 44.37333333, 44.83773243, 45.30213152, 45.76653061,\n",
              "       46.20770975, 46.67210884, 47.13650794, 47.60090703, 48.06530612,\n",
              "       48.52970522, 48.99410431, 49.4585034 , 49.92290249, 50.38730159,\n",
              "       50.85170068, 51.29287982, 51.75727891, 52.221678  , 52.6860771 ,\n",
              "       53.15047619, 53.61487528, 54.05605442, 54.52045351, 54.98485261,\n",
              "       55.4492517 , 55.91365079, 56.37804989, 56.84244898, 57.30684807,\n",
              "       57.77124717, 58.23564626, 58.6768254 , 59.14122449])"
            ]
          },
          "metadata": {
            "tags": []
          },
          "execution_count": 14
        }
      ]
    },
    {
      "cell_type": "code",
      "metadata": {
        "id": "SnCeI5P76d0Q",
        "colab_type": "code",
        "outputId": "847068a1-5b3e-4300-dad3-6a3376b4c4ad",
        "colab": {}
      },
      "source": [
        "beat_frames"
      ],
      "execution_count": 0,
      "outputs": [
        {
          "output_type": "execute_result",
          "data": {
            "text/plain": [
              "array([   5,   24,   43,   63,   83,  103,  122,  142,  162,  182,  202,\n",
              "        222,  242,  262,  281,  301,  321,  341,  361,  382,  401,  421,\n",
              "        441,  461,  480,  500,  520,  540,  560,  580,  600,  620,  639,\n",
              "        658,  678,  698,  718,  737,  758,  777,  798,  817,  837,  857,\n",
              "        877,  896,  917,  936,  957,  976,  996, 1016, 1036, 1055, 1075,\n",
              "       1095, 1116, 1135, 1155, 1175, 1195, 1214, 1234, 1254, 1275, 1295,\n",
              "       1315, 1334, 1354, 1373, 1394, 1414, 1434, 1453, 1473, 1493, 1513,\n",
              "       1532, 1553, 1573, 1593, 1612, 1632, 1652, 1672, 1691, 1712, 1732,\n",
              "       1752, 1771, 1791, 1811, 1831, 1850, 1871, 1890, 1911, 1931, 1951,\n",
              "       1971, 1990, 2010, 2030, 2050, 2070, 2090, 2110, 2130, 2150, 2170,\n",
              "       2190, 2209, 2229, 2249, 2269, 2289, 2309, 2328, 2348, 2368, 2388,\n",
              "       2408, 2428, 2448, 2468, 2488, 2508, 2527, 2547])"
            ]
          },
          "metadata": {
            "tags": []
          },
          "execution_count": 11
        }
      ]
    },
    {
      "cell_type": "code",
      "metadata": {
        "id": "UjBJ7eYX6d0W",
        "colab_type": "code",
        "outputId": "c40bfb11-27cc-43d2-a442-e4f68388c910",
        "colab": {}
      },
      "source": [
        "filename"
      ],
      "execution_count": 0,
      "outputs": [
        {
          "output_type": "execute_result",
          "data": {
            "text/plain": [
              "'C:\\\\ProgramData\\\\Anaconda3\\\\lib\\\\site-packages\\\\librosa\\\\util\\\\example_data\\\\Kevin_MacLeod_-_Vibe_Ace.ogg'"
            ]
          },
          "metadata": {
            "tags": []
          },
          "execution_count": 15
        }
      ]
    },
    {
      "cell_type": "code",
      "metadata": {
        "id": "3aZKafQp6d0c",
        "colab_type": "code",
        "colab": {}
      },
      "source": [
        "from IPython.display import Audio"
      ],
      "execution_count": 0,
      "outputs": []
    },
    {
      "cell_type": "code",
      "metadata": {
        "id": "RV4eKnu76d0p",
        "colab_type": "code",
        "colab": {}
      },
      "source": [
        "import pandas as pd "
      ],
      "execution_count": 0,
      "outputs": []
    },
    {
      "cell_type": "code",
      "metadata": {
        "id": "3a7LzFmF6d0u",
        "colab_type": "code",
        "colab": {}
      },
      "source": [
        "import numpy as np\n",
        "import os"
      ],
      "execution_count": 0,
      "outputs": []
    },
    {
      "cell_type": "code",
      "metadata": {
        "id": "2RTm6o8H6d00",
        "colab_type": "code",
        "colab": {}
      },
      "source": [
        "dataset = pd.read_csv(\"emotion.data\")"
      ],
      "execution_count": 0,
      "outputs": []
    },
    {
      "cell_type": "code",
      "metadata": {
        "id": "KsjGRmRs7VT9",
        "colab_type": "code",
        "colab": {}
      },
      "source": [
        "os.chdir('drive/My Drive/emotion-classification')"
      ],
      "execution_count": 0,
      "outputs": []
    },
    {
      "cell_type": "code",
      "metadata": {
        "id": "O-cuZdSK6d05",
        "colab_type": "code",
        "outputId": "1fa1a515-2816-4e58-f68e-8f66aeb514c9",
        "colab": {
          "base_uri": "https://localhost:8080/",
          "height": 34
        }
      },
      "source": [
        "pwd"
      ],
      "execution_count": 0,
      "outputs": [
        {
          "output_type": "execute_result",
          "data": {
            "text/plain": [
              "'/content/drive/My Drive/emotion-classification'"
            ]
          },
          "metadata": {
            "tags": []
          },
          "execution_count": 14
        }
      ]
    },
    {
      "cell_type": "code",
      "metadata": {
        "id": "cfP-5fk_6d0-",
        "colab_type": "code",
        "outputId": "768b4b76-f37e-4c8a-bb7d-b88a4ab52cbc",
        "colab": {
          "base_uri": "https://localhost:8080/",
          "height": 313
        }
      },
      "source": [
        "dataset.emotions.value_counts().plot.bar()"
      ],
      "execution_count": 0,
      "outputs": [
        {
          "output_type": "execute_result",
          "data": {
            "text/plain": [
              "<matplotlib.axes._subplots.AxesSubplot at 0x7fb09815c4e0>"
            ]
          },
          "metadata": {
            "tags": []
          },
          "execution_count": 7
        },
        {
          "output_type": "display_data",
          "data": {
            "image/png": "[encoded data removed]",
            "text/plain": [
              "<Figure size 432x288 with 1 Axes>"
            ]
          },
          "metadata": {
            "tags": []
          }
        }
      ]
    },
    {
      "cell_type": "code",
      "metadata": {
        "id": "oXsq54ns6d1D",
        "colab_type": "code",
        "colab": {}
      },
      "source": [
        "%matplotlib inline"
      ],
      "execution_count": 0,
      "outputs": []
    },
    {
      "cell_type": "code",
      "metadata": {
        "id": "2V9WEZKW6d1H",
        "colab_type": "code",
        "colab": {}
      },
      "source": [
        "import matplotlib.pyplot as plt"
      ],
      "execution_count": 0,
      "outputs": []
    },
    {
      "cell_type": "code",
      "metadata": {
        "id": "9DvnJ6Sc6d1O",
        "colab_type": "code",
        "colab": {}
      },
      "source": [
        "input_sentences = [text.split(\" \") for text in dataset[\"text\"].values.tolist()]\n",
        "labels = dataset[\"emotions\"].values.tolist()"
      ],
      "execution_count": 0,
      "outputs": []
    },
    {
      "cell_type": "code",
      "metadata": {
        "id": "a1JtoiLz6d1T",
        "colab_type": "code",
        "outputId": "46a14615-fbf5-46f0-c5a5-297f7238248e",
        "colab": {
          "base_uri": "https://localhost:8080/",
          "height": 34
        }
      },
      "source": [
        "# # Initialize word2id and label2id dictionaries that will be used to encode words and labels\n",
        "word2id = dict()\n",
        "label2id = dict()\n",
        "\n",
        "max_words = 0 # maximum number of words in a sentence\n",
        "\n",
        "# Construction of word2id dict\n",
        "for sentence in input_sentences:\n",
        "    for word in sentence:\n",
        "        # Add words to word2id dict if not exist\n",
        "        if word not in word2id:\n",
        "            word2id[word] = len(word2id)\n",
        "    # If length of the sentence is greater than max_words, update max_words\n",
        "    if len(sentence) > max_words:\n",
        "        max_words = len(sentence)\n",
        "    \n",
        "# Construction of label2id and id2label dicts\n",
        "label2id = {l: i for i, l in enumerate(set(labels))}\n",
        "id2label = {v: k for k, v in label2id.items()}\n",
        "id2label\n"
      ],
      "execution_count": 0,
      "outputs": [
        {
          "output_type": "execute_result",
          "data": {
            "text/plain": [
              "{0: 'surprise', 1: 'fear', 2: 'sadness', 3: 'love', 4: 'joy', 5: 'anger'}"
            ]
          },
          "metadata": {
            "tags": []
          },
          "execution_count": 11
        }
      ]
    },
    {
      "cell_type": "code",
      "metadata": {
        "id": "aNNExZo96d1Y",
        "colab_type": "code",
        "outputId": "b5ca4dc2-f821-46ad-fb13-e29b98252766",
        "colab": {
          "base_uri": "https://localhost:8080/",
          "height": 34
        }
      },
      "source": [
        "(set(labels))"
      ],
      "execution_count": 0,
      "outputs": [
        {
          "output_type": "execute_result",
          "data": {
            "text/plain": [
              "{'anger', 'fear', 'joy', 'love', 'sadness', 'surprise'}"
            ]
          },
          "metadata": {
            "tags": []
          },
          "execution_count": 24
        }
      ]
    },
    {
      "cell_type": "code",
      "metadata": {
        "id": "qib6d6Cm6d1d",
        "colab_type": "code",
        "outputId": "cee9f383-44da-42bd-d46c-e41922ca5191",
        "colab": {
          "base_uri": "https://localhost:8080/",
          "height": 34
        }
      },
      "source": [
        "len(word2id)"
      ],
      "execution_count": 0,
      "outputs": [
        {
          "output_type": "execute_result",
          "data": {
            "text/plain": [
              "75302"
            ]
          },
          "metadata": {
            "tags": []
          },
          "execution_count": 25
        }
      ]
    },
    {
      "cell_type": "code",
      "metadata": {
        "id": "26NEIIb66d1h",
        "colab_type": "code",
        "outputId": "ddc04445-3434-4005-aec2-2427c8af97ce",
        "colab": {
          "base_uri": "https://localhost:8080/",
          "height": 51
        }
      },
      "source": [
        "\n",
        "import k\n",
        "# Encode input words and labels\n",
        "X = [[word2id[word] for word in sentence] for sentence in input_sentences]\n",
        "Y = [label2id[label] for label in labels]\n",
        "\n",
        "# Apply Padding to X\n",
        "from keras.preprocessing.sequence import pad_sequences\n",
        "X = pad_sequences(X, max_words)\n",
        "\n",
        "# Convert Y to numpy array\n",
        "Y = keras.utils.to_categorical(Y, num_classes=len(label2id), dtype='float32')\n",
        "\n",
        "# Print shapes\n",
        "print(\"Shape of X: {}\".format(X.shape))\n",
        "print(\"Shape of Y: {}\".format(Y.shape))"
      ],
      "execution_count": 0,
      "outputs": [
        {
          "output_type": "stream",
          "text": [
            "Shape of X: (416809, 178)\n",
            "Shape of Y: (416809, 6)\n"
          ],
          "name": "stdout"
        }
      ]
    },
    {
      "cell_type": "code",
      "metadata": {
        "id": "mpAbGb6p6d1m",
        "colab_type": "code",
        "colab": {}
      },
      "source": [
        "import tensorflow as tf\n",
        "import keras"
      ],
      "execution_count": 0,
      "outputs": []
    },
    {
      "cell_type": "code",
      "metadata": {
        "id": "zmf7ymkA6d1t",
        "colab_type": "code",
        "outputId": "178906f2-175d-4ade-b076-797f93859f14",
        "colab": {
          "base_uri": "https://localhost:8080/",
          "height": 544
        }
      },
      "source": [
        "embedding_dim = 100 # The dimension of word embeddings\n",
        "\n",
        "# Define input tensor\n",
        "sequence_input = keras.Input(shape=(max_words,), dtype='int32')\n",
        "\n",
        "# Word embedding/ layer\n",
        "embedded_inputs =keras.layers.Embedding(len(word2id) + 1,\n",
        "                                        embedding_dim,\n",
        "                                        input_length=max_words)(sequence_input)\n",
        "\n",
        "# Apply dropout to prevent overfitting\n",
        "embedded_inputs = keras.layers.Dropout(0.2)(embedded_inputs)\n",
        "\n",
        "# Apply Bidirectional LSTM over embedded inputs\n",
        "lstm_outs = keras.layers.wrappers.Bidirectional(\n",
        "    keras.layers.LSTM(embedding_dim, return_sequences=True)\n",
        ")(embedded_inputs)\n",
        "\n",
        "# Apply dropout to LSTM outputs to prevent overfitting\n",
        "lstm_outs = keras.layers.Dropout(0.2)(lstm_outs)\n",
        "\n",
        "# Attention Mechanism - Generate attention vectors\n",
        "input_dim = int(lstm_outs.shape[2])\n",
        "permuted_inputs = keras.layers.Permute((2, 1))(lstm_outs)\n",
        "attention_vector = keras.layers.TimeDistributed(keras.layers.Dense(1))(lstm_outs)\n",
        "attention_vector = keras.layers.Reshape((max_words,))(attention_vector)\n",
        "attention_vector = keras.layers.Activation('softmax', name='attention_vec')(attention_vector)\n",
        "attention_output = keras.layers.Dot(axes=1)([lstm_outs, attention_vector])\n",
        "\n",
        "# Last layer: fully connected with softmax activation\n",
        "fc = keras.layers.Dense(embedding_dim, activation='relu')(attention_output)\n",
        "output = keras.layers.Dense(len(label2id), activation='softmax')(fc)\n",
        "\n",
        "# Finally building model\n",
        "model = keras.Model(inputs=[sequence_input], outputs=output)\n",
        "model.compile(loss=\"categorical_crossentropy\", metrics=[\"accuracy\"], optimizer='adam')\n",
        "\n",
        "# Print model summary\n",
        "model.summary()"
      ],
      "execution_count": 0,
      "outputs": [
        {
          "output_type": "stream",
          "text": [
            "Model: \"model_5\"\n",
            "__________________________________________________________________________________________________\n",
            "Layer (type)                    Output Shape         Param #     Connected to                     \n",
            "==================================================================================================\n",
            "input_5 (InputLayer)            (None, 178)          0                                            \n",
            "__________________________________________________________________________________________________\n",
            "embedding_5 (Embedding)         (None, 178, 100)     7530300     input_5[0][0]                    \n",
            "__________________________________________________________________________________________________\n",
            "dropout_9 (Dropout)             (None, 178, 100)     0           embedding_5[0][0]                \n",
            "__________________________________________________________________________________________________\n",
            "bidirectional_5 (Bidirectional) (None, 178, 200)     160800      dropout_9[0][0]                  \n",
            "__________________________________________________________________________________________________\n",
            "dropout_10 (Dropout)            (None, 178, 200)     0           bidirectional_5[0][0]            \n",
            "__________________________________________________________________________________________________\n",
            "time_distributed_5 (TimeDistrib (None, 178, 1)       201         dropout_10[0][0]                 \n",
            "__________________________________________________________________________________________________\n",
            "reshape_5 (Reshape)             (None, 178)          0           time_distributed_5[0][0]         \n",
            "__________________________________________________________________________________________________\n",
            "attention_vec (Activation)      (None, 178)          0           reshape_5[0][0]                  \n",
            "__________________________________________________________________________________________________\n",
            "dot_5 (Dot)                     (None, 200)          0           dropout_10[0][0]                 \n",
            "                                                                 attention_vec[0][0]              \n",
            "__________________________________________________________________________________________________\n",
            "dense_14 (Dense)                (None, 100)          20100       dot_5[0][0]                      \n",
            "__________________________________________________________________________________________________\n",
            "dense_15 (Dense)                (None, 6)            606         dense_14[0][0]                   \n",
            "==================================================================================================\n",
            "Total params: 7,712,007\n",
            "Trainable params: 7,712,007\n",
            "Non-trainable params: 0\n",
            "__________________________________________________________________________________________________\n"
          ],
          "name": "stdout"
        }
      ]
    },
    {
      "cell_type": "code",
      "metadata": {
        "id": "LtwNZOYP6d1x",
        "colab_type": "code",
        "outputId": "d5491ca0-2ddd-436f-9faf-0b42610f7a16",
        "colab": {
          "base_uri": "https://localhost:8080/",
          "height": 139
        }
      },
      "source": [
        "model.fit(X, Y, epochs=2, batch_size=1000, validation_split=0.1, shuffle=True)"
      ],
      "execution_count": 0,
      "outputs": [
        {
          "output_type": "stream",
          "text": [
            "Train on 375128 samples, validate on 41681 samples\n",
            "Epoch 1/2\n",
            "375128/375128 [==============================] - 401s 1ms/step - loss: 0.8197 - acc: 0.6673 - val_loss: 0.2168 - val_acc: 0.9124\n",
            "Epoch 2/2\n",
            "375128/375128 [==============================] - 397s 1ms/step - loss: 0.1511 - acc: 0.9282 - val_loss: 0.1152 - val_acc: 0.9301\n"
          ],
          "name": "stdout"
        },
        {
          "output_type": "execute_result",
          "data": {
            "text/plain": [
              "<keras.callbacks.History at 0x7fafdfef8668>"
            ]
          },
          "metadata": {
            "tags": []
          },
          "execution_count": 25
        }
      ]
    },
    {
      "cell_type": "code",
      "metadata": {
        "id": "2YzC4XvE6d11",
        "colab_type": "code",
        "colab": {}
      },
      "source": [
        "# Re-create the model to get attention vectors as well as label prediction\n",
        "model_with_attentions = keras.Model(inputs=model.input,\n",
        "                                    outputs=[model.output, \n",
        "                                             model.get_layer('attention_vec').output])"
      ],
      "execution_count": 0,
      "outputs": []
    },
    {
      "cell_type": "code",
      "metadata": {
        "id": "DgIwOg876d15",
        "colab_type": "code",
        "outputId": "5cbeed04-a980-43a6-8e2c-5104d6c44d17",
        "colab": {
          "base_uri": "https://localhost:8080/",
          "height": 1000
        }
      },
      "source": [
        "import random\n",
        "import math\n",
        "\n",
        "# VISUALIZATION\n",
        "import matplotlib.pyplot as plt; plt.rcdefaults()\n",
        "import numpy as np\n",
        "import matplotlib.pyplot as plt\n",
        "from IPython.core.display import display, HTML\n",
        "start=True\n",
        "while start:\n",
        "    # Select random samples to illustrate\n",
        "    sample_text =input(\"Please enter a text\").lower()\n",
        "    if 'exit' in sample_text.lower():\n",
        "        start=False\n",
        "\n",
        "    # Encode samples\n",
        "    tokenized_sample = sample_text.split(\" \")\n",
        "    encoded_samples = [[word2id[word] for word in tokenized_sample]]\n",
        "\n",
        "    # Padding\n",
        "    encoded_samples = keras.preprocessing.sequence.pad_sequences(encoded_samples, maxlen=max_words)\n",
        "\n",
        "    # Make predictions\n",
        "    label_probs, attentions = model_with_attentions.predict(encoded_samples)\n",
        "    label_probs = {id2label[_id]: prob for (label, _id), prob in zip(label2id.items(),label_probs[0])}\n",
        "\n",
        "    # Get word attentions using attenion vector\n",
        "    token_attention_dic = {}\n",
        "    max_score = 0.0\n",
        "    min_score = 0.0\n",
        "    for token, attention_score in zip(tokenized_sample, attentions[0][-len(tokenized_sample):]):\n",
        "        token_attention_dic[token] = math.sqrt(attention_score)\n",
        "\n",
        "\n",
        "\n",
        "    def rgb_to_hex(rgb):\n",
        "        return '#%02x%02x%02x' % rgb\n",
        "        \n",
        "    def attention2color(attention_score):\n",
        "        r = 255 - int(attention_score * 255)\n",
        "        color = rgb_to_hex((255, r, r))\n",
        "        return str(color)\n",
        "        \n",
        "    # Build HTML String to viualize attentions\n",
        "    html_text = \"<hr><p style='font-size: large'><b>Text:  </b>\"\n",
        "    for token, attention in token_attention_dic.items():\n",
        "        html_text += \"<span style='background-color:{};'>{} <span> \".format(attention2color(attention),\n",
        "                                                                            token)\n",
        "    html_text += \"</p>\"\n",
        "    # Display text enriched with attention scores \n",
        "    display(HTML(html_text))\n",
        "\n",
        "    # PLOT EMOTION SCORES\n",
        "    emotions = [label for label, _ in label_probs.items()]\n",
        "    scores = [score for _, score in label_probs.items()]\n",
        "    plt.figure(figsize=(5,2))\n",
        "    plt.bar(np.arange(len(emotions)), scores, align='center', alpha=0.5, color=['black', 'red', 'green', 'blue', 'cyan', \"purple\"])\n",
        "    plt.xticks(np.arange(len(emotions)), emotions)\n",
        "    plt.ylabel('Scores')\n",
        "    plt.show()"
      ],
      "execution_count": 0,
      "outputs": [
        {
          "output_type": "stream",
          "text": [
            "Please enter a textI am happy\n"
          ],
          "name": "stdout"
        },
        {
          "output_type": "display_data",
          "data": {
            "text/html": [
              "<hr><p style='font-size: large'><b>Text:  </b><span style='background-color:#ffb7b7;'>i <span> <span style='background-color:#ffcbcb;'>am <span> <span style='background-color:#fff5f5;'>happy <span> </p>"
            ],
            "text/plain": [
              "<IPython.core.display.HTML object>"
            ]
          },
          "metadata": {
            "tags": []
          }
        },
        {
          "output_type": "display_data",
          "data": {
            "image/png": "[encoded data removed]",
            "text/plain": [
              "<Figure size 500x200 with 1 Axes>"
            ]
          },
          "metadata": {
            "tags": []
          }
        },
        {
          "output_type": "stream",
          "text": [
            "Please enter a textHappy\n"
          ],
          "name": "stdout"
        },
        {
          "output_type": "display_data",
          "data": {
            "text/html": [
              "<hr><p style='font-size: large'><b>Text:  </b><span style='background-color:#fff3f3;'>happy <span> </p>"
            ],
            "text/plain": [
              "<IPython.core.display.HTML object>"
            ]
          },
          "metadata": {
            "tags": []
          }
        },
        {
          "output_type": "display_data",
          "data": {
            "image/png": "[encoded data removed]",
            "text/plain": [
              "<Figure size 500x200 with 1 Axes>"
            ]
          },
          "metadata": {
            "tags": []
          }
        },
        {
          "output_type": "stream",
          "text": [
            "Please enter a textMy Father scolded me\n"
          ],
          "name": "stdout"
        },
        {
          "output_type": "display_data",
          "data": {
            "text/html": [
              "<hr><p style='font-size: large'><b>Text:  </b><span style='background-color:#ffbebe;'>my <span> <span style='background-color:#ff9f9f;'>father <span> <span style='background-color:#ff8686;'>scolded <span> <span style='background-color:#ffbdbd;'>me <span> </p>"
            ],
            "text/plain": [
              "<IPython.core.display.HTML object>"
            ]
          },
          "metadata": {
            "tags": []
          }
        },
        {
          "output_type": "display_data",
          "data": {
            "image/png": "[encoded data removed]",
            "text/plain": [
              "<Figure size 500x200 with 1 Axes>"
            ]
          },
          "metadata": {
            "tags": []
          }
        },
        {
          "output_type": "stream",
          "text": [
            "Please enter a textI sm going to Park\n"
          ],
          "name": "stdout"
        },
        {
          "output_type": "display_data",
          "data": {
            "text/html": [
              "<hr><p style='font-size: large'><b>Text:  </b><span style='background-color:#ffb5b5;'>i <span> <span style='background-color:#ffaeae;'>sm <span> <span style='background-color:#ffbbbb;'>going <span> <span style='background-color:#ffc3c3;'>to <span> <span style='background-color:#ffc1c1;'>park <span> </p>"
            ],
            "text/plain": [
              "<IPython.core.display.HTML object>"
            ]
          },
          "metadata": {
            "tags": []
          }
        },
        {
          "output_type": "display_data",
          "data": {
            "image/png": "[encoded data removed]",
            "text/plain": [
              "<Figure size 500x200 with 1 Axes>"
            ]
          },
          "metadata": {
            "tags": []
          }
        },
        {
          "output_type": "stream",
          "text": [
            "Please enter a textI am live\n"
          ],
          "name": "stdout"
        },
        {
          "output_type": "display_data",
          "data": {
            "text/html": [
              "<hr><p style='font-size: large'><b>Text:  </b><span style='background-color:#ffaeae;'>i <span> <span style='background-color:#ffc1c1;'>am <span> <span style='background-color:#ffc5c5;'>live <span> </p>"
            ],
            "text/plain": [
              "<IPython.core.display.HTML object>"
            ]
          },
          "metadata": {
            "tags": []
          }
        },
        {
          "output_type": "display_data",
          "data": {
            "image/png": "[encoded data removed]",
            "text/plain": [
              "<Figure size 500x200 with 1 Axes>"
            ]
          },
          "metadata": {
            "tags": []
          }
        },
        {
          "output_type": "stream",
          "text": [
            "Please enter a texti am alive\n"
          ],
          "name": "stdout"
        },
        {
          "output_type": "display_data",
          "data": {
            "text/html": [
              "<hr><p style='font-size: large'><b>Text:  </b><span style='background-color:#ffb1b1;'>i <span> <span style='background-color:#ffc4c4;'>am <span> <span style='background-color:#ffdada;'>alive <span> </p>"
            ],
            "text/plain": [
              "<IPython.core.display.HTML object>"
            ]
          },
          "metadata": {
            "tags": []
          }
        },
        {
          "output_type": "display_data",
          "data": {
            "image/png": "[encoded data removed]",
            "text/plain": [
              "<Figure size 500x200 with 1 Axes>"
            ]
          },
          "metadata": {
            "tags": []
          }
        },
        {
          "output_type": "stream",
          "text": [
            "Please enter a texti take cellfood every day like clockwork because of cellfood i feel more energetic i sleep less and i don t easily get so tired\n"
          ],
          "name": "stdout"
        },
        {
          "output_type": "display_data",
          "data": {
            "text/html": [
              "<hr><p style='font-size: large'><b>Text:  </b><span style='background-color:#ffe5e5;'>i <span> <span style='background-color:#ffe4e4;'>take <span> <span style='background-color:#ffdcdc;'>cellfood <span> <span style='background-color:#ffe3e3;'>every <span> <span style='background-color:#ffe2e2;'>day <span> <span style='background-color:#ffe1e1;'>like <span> <span style='background-color:#ffe5e5;'>clockwork <span> <span style='background-color:#ffdfdf;'>because <span> <span style='background-color:#ffe0e0;'>of <span> <span style='background-color:#ffaaaa;'>feel <span> <span style='background-color:#ff6464;'>more <span> <span style='background-color:#fffbfb;'>energetic <span> <span style='background-color:#ffebeb;'>sleep <span> <span style='background-color:#ffe6e6;'>less <span> <span style='background-color:#ffe7e7;'>and <span> <span style='background-color:#ffe6e6;'>don <span> <span style='background-color:#ffe7e7;'>t <span> <span style='background-color:#ffe9e9;'>easily <span> <span style='background-color:#ffeaea;'>get <span> <span style='background-color:#ffe8e8;'>so <span> <span style='background-color:#ffecec;'>tired <span> </p>"
            ],
            "text/plain": [
              "<IPython.core.display.HTML object>"
            ]
          },
          "metadata": {
            "tags": []
          }
        },
        {
          "output_type": "display_data",
          "data": {
            "image/png": "[encoded data removed]",
            "text/plain": [
              "<Figure size 500x200 with 1 Axes>"
            ]
          },
          "metadata": {
            "tags": []
          }
        },
        {
          "output_type": "stream",
          "text": [
            "Please enter a textexit\n"
          ],
          "name": "stdout"
        },
        {
          "output_type": "display_data",
          "data": {
            "text/html": [
              "<hr><p style='font-size: large'><b>Text:  </b><span style='background-color:#ffbbbb;'>exit <span> </p>"
            ],
            "text/plain": [
              "<IPython.core.display.HTML object>"
            ]
          },
          "metadata": {
            "tags": []
          }
        },
        {
          "output_type": "display_data",
          "data": {
            "image/png": "[encoded data removed]",
            "text/plain": [
              "<Figure size 500x200 with 1 Axes>"
            ]
          },
          "metadata": {
            "tags": []
          }
        }
      ]
    },
    {
      "cell_type": "code",
      "metadata": {
        "id": "-qGFL83x6d1-",
        "colab_type": "code",
        "outputId": "14e04732-0469-4274-9845-f260a2322dc7",
        "colab": {
          "base_uri": "https://localhost:8080/",
          "height": 54
        }
      },
      "source": [
        "random.choice(dataset[\"text\"].values.tolist())"
      ],
      "execution_count": 0,
      "outputs": [
        {
          "output_type": "execute_result",
          "data": {
            "text/plain": [
              "'i take cellfood every day like clockwork because of cellfood i feel more energetic i sleep less and i don t easily get so tired'"
            ]
          },
          "metadata": {
            "tags": []
          },
          "execution_count": 28
        }
      ]
    },
    {
      "cell_type": "code",
      "metadata": {
        "id": "iXuMYyMQBxzz",
        "colab_type": "code",
        "colab": {}
      },
      "source": [
        "model.save(\"model_emotion.h5\")"
      ],
      "execution_count": 0,
      "outputs": []
    },
    {
      "cell_type": "code",
      "metadata": {
        "id": "lLcr4-5ZDKGF",
        "colab_type": "code",
        "outputId": "1abedb45-320f-452c-a442-108c3dfc5b03",
        "colab": {
          "base_uri": "https://localhost:8080/",
          "height": 102
        }
      },
      "source": [
        "os.listdir()"
      ],
      "execution_count": 0,
      "outputs": [
        {
          "output_type": "execute_result",
          "data": {
            "text/plain": [
              "['sample_submission.csv',\n",
              " 'test_data.csv',\n",
              " 'emotion.data',\n",
              " 'train_data.csv',\n",
              " 'model_emotion.h5']"
            ]
          },
          "metadata": {
            "tags": []
          },
          "execution_count": 32
        }
      ]
    },
    {
      "cell_type": "code",
      "metadata": {
        "id": "arNfjgNRDObG",
        "colab_type": "code",
        "colab": {}
      },
      "source": [
        ""
      ],
      "execution_count": 0,
      "outputs": []
    }
  ]
}